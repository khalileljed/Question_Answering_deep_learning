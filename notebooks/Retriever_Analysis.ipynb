{
 "cells": [
  {
   "cell_type": "code",
   "execution_count": null,
   "metadata": {},
   "outputs": [],
   "source": [
    "%cd ../"
   ]
  },
  {
   "cell_type": "code",
   "execution_count": 2,
   "metadata": {
    "colab": {},
    "colab_type": "code",
    "id": "MqFGsffhxf_p"
   },
   "outputs": [],
   "source": [
    "from src.utils import *\n",
    "from src.evaluate import *"
   ]
  },
  {
   "cell_type": "code",
   "execution_count": 3,
   "metadata": {
    "colab": {},
    "colab_type": "code",
    "id": "d-nvkm8HxolT"
   },
   "outputs": [],
   "source": [
    "labels = load_pickle(\"data/data_pickle/labels.pickle\")\n",
    "test_set = load_pickle(\"data/data_pickle/test_set_50.pickle\")\n",
    "# Create a dictionary of qid and candidates from retriever\n",
    "qid_pred_rank = create_qid_pred_rank(test_set)"
   ]
  },
  {
   "cell_type": "markdown",
   "metadata": {
    "colab_type": "text",
    "id": "1wU6lmSx2CH7"
   },
   "source": [
    "# **Evaluate results from the retriever using BM25**"
   ]
  },
  {
   "cell_type": "code",
   "execution_count": 5,
   "metadata": {
    "colab": {
     "base_uri": "https://localhost:8080/",
     "height": 145
    },
    "colab_type": "code",
    "id": "QVDv7PiSzx5D",
    "outputId": "58b65a39-f44c-42a2-c77e-395cb4a57778"
   },
   "outputs": [
    {
     "name": "stdout",
     "output_type": "stream",
     "text": [
      "\n",
      "\n",
      "Average nDCG@10 for 6648 queries: 0.361\n",
      "\n",
      "MRR@10 for 6648 queries: 0.305\n",
      "\n",
      "Average Precision@1: 0.228\n"
     ]
    }
   ],
   "source": [
    "k = 10\n",
    "\n",
    "num_q = len(labels)\n",
    "\n",
    "MRR, average_ndcg, precision, rank_pos = evaluate(qid_pred_rank, labels, k)\n",
    "\n",
    "print(\"\\n\\nAverage nDCG@{} for {} queries: {}\\n\".format(k, num_q, round(average_ndcg, 3)))\n",
    "\n",
    "print(\"MRR@{} for {} queries: {}\\n\".format(k, num_q, round(MRR,3)))\n",
    "\n",
    "print(\"Average Precision@{}: {}\".format(1, round(precision, 3)))"
   ]
  },
  {
   "cell_type": "code",
   "execution_count": 12,
   "metadata": {
    "colab": {
     "base_uri": "https://localhost:8080/",
     "height": 126
    },
    "colab_type": "code",
    "id": "kjEvfcWl77it",
    "outputId": "7bcc419a-f9a1-4d4b-da21-4d9afe2f9f51"
   },
   "outputs": [
    {
     "name": "stdout",
     "output_type": "stream",
     "text": [
      "The lowest rank of the first relevant answer: 484\n",
      "\n",
      "The highest rank of the first relevant answer: 1\n",
      " \n",
      "The average rank of the first relevant answer: 54\n",
      "\n"
     ]
    }
   ],
   "source": [
    "print(\"The lowest rank of the first relevant answer: {}\\n\".format(max(rank_pos)))\n",
    "print(\"The highest rank of the first relevant answer: {}\\n \".format(min(rank_pos)))\n",
    "print(\"The average rank of the first relevant answer: {}\\n\".format(round(mean(rank_pos))))"
   ]
  },
  {
   "cell_type": "markdown",
   "metadata": {
    "colab_type": "text",
    "id": "XJOJ5VE15ku9"
   },
   "source": [
    "# **Retriever Analysis**"
   ]
  },
  {
   "cell_type": "code",
   "execution_count": 6,
   "metadata": {
    "colab": {
     "base_uri": "https://localhost:8080/",
     "height": 35
    },
    "colab_type": "code",
    "id": "eiPhE1pS2b8U",
    "outputId": "7a1acfda-2178-4c54-cb73-479f6665339b"
   },
   "outputs": [
    {
     "name": "stdout",
     "output_type": "stream",
     "text": [
      "The number of questions without a relevant answer: 129/6648 - 39% of questions\n"
     ]
    }
   ],
   "source": [
    "# Count the number of questions without a relevant answer\n",
    "count = 0\n",
    "\n",
    "for row in test_set:\n",
    "    if not any(x in row[2]  for x in row[1]):\n",
    "        count += 1\n",
    "\n",
    "percent = round(count/len(test_set)*100)\n",
    "\n",
    "print(\"The number of questions without a relevant answer: {}/{} - {}% of questions\".format(count, num_q, percent))"
   ]
  },
  {
   "cell_type": "code",
   "execution_count": 7,
   "metadata": {
    "colab": {
     "base_uri": "https://localhost:8080/",
     "height": 35
    },
    "colab_type": "code",
    "id": "VT8T-BtB5wYf",
    "outputId": "7655b249-29e5-43e7-8692-3463cb663ccd"
   },
   "outputs": [
    {
     "name": "stdout",
     "output_type": "stream",
     "text": [
      "The number of questions without all the relevant answers: 235/6648 - 71% of questions\n"
     ]
    }
   ],
   "source": [
    "# Count the number of questions without all the relevant answers\n",
    "count = 0\n",
    "\n",
    "for row in test_set:\n",
    "    if not all(x in row[2]  for x in row[1]):\n",
    "        count += 1\n",
    "\n",
    "percent = round(count/len(test_set)*100)\n",
    "\n",
    "print(\"The number of questions without all the relevant answers: {}/{} - {}% of questions\".format(count, num_q, percent))"
   ]
  }
 ],
 "metadata": {
  "colab": {
   "name": "retriever_evaulation.ipynb",
   "provenance": []
  },
  "kernelspec": {
   "display_name": "Python 3",
   "language": "python",
   "name": "python3"
  },
  "language_info": {
   "codemirror_mode": {
    "name": "ipython",
    "version": 3
   },
   "file_extension": ".py",
   "mimetype": "text/x-python",
   "name": "python",
   "nbconvert_exporter": "python",
   "pygments_lexer": "ipython3",
   "version": "3.6.8"
  }
 },
 "nbformat": 4,
 "nbformat_minor": 1
}
