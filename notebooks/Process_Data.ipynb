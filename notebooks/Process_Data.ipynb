{
 "cells": [
  {
   "cell_type": "markdown",
   "metadata": {
    "colab_type": "text",
    "id": "7kGXtPdGOXVT"
   },
   "source": [
    "This notebook:\n",
    "1. Loads and cleans the raw data\n",
    "2. Prepares the data for the Anserini retriever\n",
    "3. Pre-processes and tokenizes the raw cleaned data\n",
    "4. Creates vocabulary from the corpus"
   ]
  },
  {
   "cell_type": "code",
   "execution_count": null,
   "metadata": {},
   "outputs": [],
   "source": [
    "%cd ../"
   ]
  },
  {
   "cell_type": "code",
   "execution_count": 3,
   "metadata": {
    "colab": {
     "base_uri": "https://localhost:8080/",
     "height": 54
    },
    "colab_type": "code",
    "id": "ovy5Jis3IAz8",
    "outputId": "f4169c8d-d31e-4bd2-9fdd-ebfd0e98b5a8"
   },
   "outputs": [
    {
     "name": "stderr",
     "output_type": "stream",
     "text": [
      "[nltk_data] Downloading package punkt to /home/bithiah/nltk_data...\n",
      "[nltk_data]   Package punkt is already up-to-date!\n"
     ]
    }
   ],
   "source": [
    "from statistics import mean \n",
    "\n",
    "from src.process_data import *"
   ]
  },
  {
   "cell_type": "markdown",
   "metadata": {
    "colab_type": "text",
    "id": "aqxmryywHDn2"
   },
   "source": [
    "# **Load data**"
   ]
  },
  {
   "cell_type": "code",
   "execution_count": 4,
   "metadata": {
    "colab": {},
    "colab_type": "code",
    "id": "etUrlQ4Y0m8h"
   },
   "outputs": [],
   "source": [
    "# Document id and Answer text\n",
    "collection = load_answers_to_df(\"data/raw/FiQA_train_doc_final.tsv\")\n",
    "# Question id and Question text\n",
    "queries = load_questions_to_df(\"data/raw/FiQA_train_question_final.tsv\")\n",
    "# Question id and Answer id pair\n",
    "qid_docid = load_qid_docid_to_df(\"data/raw/FiQA_train_question_doc_final.tsv\")"
   ]
  },
  {
   "cell_type": "code",
   "execution_count": 0,
   "metadata": {
    "colab": {
     "base_uri": "https://localhost:8080/",
     "height": 216
    },
    "colab_type": "code",
    "id": "qqRAE1UTNCGi",
    "outputId": "445ffb71-c92d-4245-9062-a5fbf4499873"
   },
   "outputs": [
    {
     "name": "stdout",
     "output_type": "stream",
     "text": [
      "Document id and Answer text\n"
     ]
    },
    {
     "data": {
      "text/html": [
       "<div>\n",
       "<style scoped>\n",
       "    .dataframe tbody tr th:only-of-type {\n",
       "        vertical-align: middle;\n",
       "    }\n",
       "\n",
       "    .dataframe tbody tr th {\n",
       "        vertical-align: top;\n",
       "    }\n",
       "\n",
       "    .dataframe thead th {\n",
       "        text-align: right;\n",
       "    }\n",
       "</style>\n",
       "<table border=\"1\" class=\"dataframe\">\n",
       "  <thead>\n",
       "    <tr style=\"text-align: right;\">\n",
       "      <th></th>\n",
       "      <th>docid</th>\n",
       "      <th>doc</th>\n",
       "    </tr>\n",
       "  </thead>\n",
       "  <tbody>\n",
       "    <tr>\n",
       "      <th>0</th>\n",
       "      <td>3</td>\n",
       "      <td>I'm not saying I don't like the idea of on-the...</td>\n",
       "    </tr>\n",
       "    <tr>\n",
       "      <th>1</th>\n",
       "      <td>31</td>\n",
       "      <td>So nothing preventing false ratings besides ad...</td>\n",
       "    </tr>\n",
       "    <tr>\n",
       "      <th>2</th>\n",
       "      <td>56</td>\n",
       "      <td>You can never use a health FSA for individual ...</td>\n",
       "    </tr>\n",
       "    <tr>\n",
       "      <th>3</th>\n",
       "      <td>59</td>\n",
       "      <td>Samsung created the LCD and other flat screen ...</td>\n",
       "    </tr>\n",
       "    <tr>\n",
       "      <th>4</th>\n",
       "      <td>63</td>\n",
       "      <td>Here are the SEC requirements: The federal sec...</td>\n",
       "    </tr>\n",
       "  </tbody>\n",
       "</table>\n",
       "</div>"
      ],
      "text/plain": [
       "   docid                                                doc\n",
       "0      3  I'm not saying I don't like the idea of on-the...\n",
       "1     31  So nothing preventing false ratings besides ad...\n",
       "2     56  You can never use a health FSA for individual ...\n",
       "3     59  Samsung created the LCD and other flat screen ...\n",
       "4     63  Here are the SEC requirements: The federal sec..."
      ]
     },
     "execution_count": 41,
     "metadata": {
      "tags": []
     },
     "output_type": "execute_result"
    }
   ],
   "source": [
    "print(\"Document id and Answer text\")\n",
    "collection.head(5)"
   ]
  },
  {
   "cell_type": "code",
   "execution_count": 0,
   "metadata": {
    "colab": {
     "base_uri": "https://localhost:8080/",
     "height": 92
    },
    "colab_type": "code",
    "id": "AuwlO1R61Z8H",
    "outputId": "b64f6132-4ef2-47dc-8c60-d47fb65de0e3"
   },
   "outputs": [
    {
     "name": "stdout",
     "output_type": "stream",
     "text": [
      "Example answer: \n",
      "\n",
      "I'm not saying I don't like the idea of on-the-job training too, but you can't expect the company to do that. Training workers is not their job - they're building software. Perhaps educational systems in the U.S. (or their students) should worry a little about getting marketable skills in exchange for their massive investment in education, rather than getting out with thousands in student debt and then complaining that they aren't qualified to do anything.\n"
     ]
    }
   ],
   "source": [
    "print(\"Example answer: \\n\")\n",
    "print(collection.iloc[0]['doc'])"
   ]
  },
  {
   "cell_type": "code",
   "execution_count": 0,
   "metadata": {
    "colab": {
     "base_uri": "https://localhost:8080/",
     "height": 216
    },
    "colab_type": "code",
    "id": "Uz4C9vm2NLeb",
    "outputId": "2a6d26ba-4a43-4045-808d-cb1d61f200b3"
   },
   "outputs": [
    {
     "name": "stdout",
     "output_type": "stream",
     "text": [
      "Question id and Question text\n"
     ]
    },
    {
     "data": {
      "text/html": [
       "<div>\n",
       "<style scoped>\n",
       "    .dataframe tbody tr th:only-of-type {\n",
       "        vertical-align: middle;\n",
       "    }\n",
       "\n",
       "    .dataframe tbody tr th {\n",
       "        vertical-align: top;\n",
       "    }\n",
       "\n",
       "    .dataframe thead th {\n",
       "        text-align: right;\n",
       "    }\n",
       "</style>\n",
       "<table border=\"1\" class=\"dataframe\">\n",
       "  <thead>\n",
       "    <tr style=\"text-align: right;\">\n",
       "      <th></th>\n",
       "      <th>qid</th>\n",
       "      <th>question</th>\n",
       "    </tr>\n",
       "  </thead>\n",
       "  <tbody>\n",
       "    <tr>\n",
       "      <th>0</th>\n",
       "      <td>0</td>\n",
       "      <td>What is considered a business expense on a bus...</td>\n",
       "    </tr>\n",
       "    <tr>\n",
       "      <th>1</th>\n",
       "      <td>1</td>\n",
       "      <td>Claiming business expenses for a business with...</td>\n",
       "    </tr>\n",
       "    <tr>\n",
       "      <th>2</th>\n",
       "      <td>2</td>\n",
       "      <td>Transferring money from One business checking ...</td>\n",
       "    </tr>\n",
       "    <tr>\n",
       "      <th>3</th>\n",
       "      <td>3</td>\n",
       "      <td>Having a separate bank account for business/in...</td>\n",
       "    </tr>\n",
       "    <tr>\n",
       "      <th>4</th>\n",
       "      <td>4</td>\n",
       "      <td>Business Expense - Car Insurance Deductible Fo...</td>\n",
       "    </tr>\n",
       "  </tbody>\n",
       "</table>\n",
       "</div>"
      ],
      "text/plain": [
       "   qid                                           question\n",
       "0    0  What is considered a business expense on a bus...\n",
       "1    1  Claiming business expenses for a business with...\n",
       "2    2  Transferring money from One business checking ...\n",
       "3    3  Having a separate bank account for business/in...\n",
       "4    4  Business Expense - Car Insurance Deductible Fo..."
      ]
     },
     "execution_count": 42,
     "metadata": {
      "tags": []
     },
     "output_type": "execute_result"
    }
   ],
   "source": [
    "print(\"Question id and Question text\")\n",
    "queries.head(5)"
   ]
  },
  {
   "cell_type": "code",
   "execution_count": 0,
   "metadata": {
    "colab": {
     "base_uri": "https://localhost:8080/",
     "height": 72
    },
    "colab_type": "code",
    "id": "ezZpe_6d1l6u",
    "outputId": "11bc8bbf-31b0-49f1-8e9e-0782cc8346c3"
   },
   "outputs": [
    {
     "name": "stdout",
     "output_type": "stream",
     "text": [
      "Example Question: \n",
      "\n",
      "What is considered a business expense on a business trip?\n"
     ]
    }
   ],
   "source": [
    "print(\"Example Question: \\n\")\n",
    "print(queries.iloc[0]['question'])"
   ]
  },
  {
   "cell_type": "code",
   "execution_count": 0,
   "metadata": {
    "colab": {
     "base_uri": "https://localhost:8080/",
     "height": 216
    },
    "colab_type": "code",
    "id": "aHH4njPsNNJv",
    "outputId": "7e9201a2-7fca-45f5-ff34-ca565729d54e"
   },
   "outputs": [
    {
     "name": "stdout",
     "output_type": "stream",
     "text": [
      "Question id and Answer id pair\n"
     ]
    },
    {
     "data": {
      "text/html": [
       "<div>\n",
       "<style scoped>\n",
       "    .dataframe tbody tr th:only-of-type {\n",
       "        vertical-align: middle;\n",
       "    }\n",
       "\n",
       "    .dataframe tbody tr th {\n",
       "        vertical-align: top;\n",
       "    }\n",
       "\n",
       "    .dataframe thead th {\n",
       "        text-align: right;\n",
       "    }\n",
       "</style>\n",
       "<table border=\"1\" class=\"dataframe\">\n",
       "  <thead>\n",
       "    <tr style=\"text-align: right;\">\n",
       "      <th></th>\n",
       "      <th>qid</th>\n",
       "      <th>docid</th>\n",
       "    </tr>\n",
       "  </thead>\n",
       "  <tbody>\n",
       "    <tr>\n",
       "      <th>0</th>\n",
       "      <td>0</td>\n",
       "      <td>18850</td>\n",
       "    </tr>\n",
       "    <tr>\n",
       "      <th>1</th>\n",
       "      <td>1</td>\n",
       "      <td>14255</td>\n",
       "    </tr>\n",
       "    <tr>\n",
       "      <th>2</th>\n",
       "      <td>2</td>\n",
       "      <td>308938</td>\n",
       "    </tr>\n",
       "    <tr>\n",
       "      <th>3</th>\n",
       "      <td>3</td>\n",
       "      <td>296717</td>\n",
       "    </tr>\n",
       "    <tr>\n",
       "      <th>4</th>\n",
       "      <td>3</td>\n",
       "      <td>100764</td>\n",
       "    </tr>\n",
       "  </tbody>\n",
       "</table>\n",
       "</div>"
      ],
      "text/plain": [
       "   qid   docid\n",
       "0    0   18850\n",
       "1    1   14255\n",
       "2    2  308938\n",
       "3    3  296717\n",
       "4    3  100764"
      ]
     },
     "execution_count": 5,
     "metadata": {
      "tags": []
     },
     "output_type": "execute_result"
    }
   ],
   "source": [
    "print(\"Question id and Answer id pair\")\n",
    "qid_docid.head(5)"
   ]
  },
  {
   "cell_type": "code",
   "execution_count": 0,
   "metadata": {
    "colab": {},
    "colab_type": "code",
    "id": "08dcPKi4wvDI"
   },
   "outputs": [],
   "source": [
    "qid_rel = label_to_dict(qid_docid)"
   ]
  },
  {
   "cell_type": "code",
   "execution_count": 0,
   "metadata": {
    "colab": {
     "base_uri": "https://localhost:8080/",
     "height": 126
    },
    "colab_type": "code",
    "id": "yjSCeQIcw7WT",
    "outputId": "c8170850-0958-4ff1-9184-3a8e849ae97b"
   },
   "outputs": [
    {
     "name": "stdout",
     "output_type": "stream",
     "text": [
      "Average number of relevant passages for each query: 3\n",
      "\n",
      "Max number of relevant passages for each query: 23\n",
      "\n",
      "Min number of relevant passages for each query: 1\n",
      "\n"
     ]
    }
   ],
   "source": [
    "# Number of relevant passages for each query\n",
    "num_rel = [len(v) for v in qid_rel.values()]\n",
    "\n",
    "avg_num_rel = mean(num_rel)\n",
    "max_num_rel = max(num_rel)\n",
    "min_num_rel = min(num_rel)\n",
    "\n",
    "print(\"Average number of relevant passages for each query: {}\\n\".format(round(avg_num_rel)))\n",
    "print(\"Max number of relevant passages for each query: {}\\n\".format(max_num_rel))\n",
    "print(\"Min number of relevant passages for each query: {}\\n\".format(min_num_rel))"
   ]
  },
  {
   "cell_type": "code",
   "execution_count": 0,
   "metadata": {
    "colab": {
     "base_uri": "https://localhost:8080/",
     "height": 128
    },
    "colab_type": "code",
    "id": "U4TL_3Dh1tEI",
    "outputId": "23aa9c6c-e5ad-452c-9155-574ba4c702a6"
   },
   "outputs": [
    {
     "name": "stdout",
     "output_type": "stream",
     "text": [
      "Example QA pair: \n",
      "\n",
      "Question: Having a separate bank account for business/investing, but not a “business account?”\n",
      "\n",
      "Answer: Having a separate checking account for the business makes sense. It simplifies documenting your income/expenses. You can \"explain\" every dollar entering and exiting the account without having to remember that some of them were for non-business items. My credit union allowed me to have a 2nd checking account and allowed me to put whatever I wanted as the name on the check. I think this looked a little better than having my name on the check. I don't see the need for a separate checking account for investing. The money can be kept in a separate savings account that has no fees, and can even earn a little interest. Unless you are doing a lot of investment transactions a month this has worked for me. I fund IRAs and 529 plans this way. We get paychecks 4-5 times a month, but send money to each of the funds once a month. You will need a business account if the number of transactions becomes large. If you deposit dozens of checks every time you go to the bank, the bank will want to move you to a business account.\n"
     ]
    }
   ],
   "source": [
    "print(\"Example QA pair: \\n\")\n",
    "print(\"Question: {}\".format(queries.at[3, 'question']))\n",
    "\n",
    "x = collection[collection['docid']==296717]\n",
    "\n",
    "print()\n",
    "print(\"Answer: {}\".format(x.at[28732, 'doc']))"
   ]
  },
  {
   "cell_type": "code",
   "execution_count": 0,
   "metadata": {
    "colab": {
     "base_uri": "https://localhost:8080/",
     "height": 72
    },
    "colab_type": "code",
    "id": "geR_D-06aAwe",
    "outputId": "d4a5dc54-e67b-40b1-8190-c5e9303a7063"
   },
   "outputs": [
    {
     "name": "stdout",
     "output_type": "stream",
     "text": [
      "Number of answers: 57638\n",
      "Number of questions: 6648\n",
      "Number of QA pairs: 17110\n"
     ]
    }
   ],
   "source": [
    "print(\"Number of answers: {}\".format(len(collection)))\n",
    "print(\"Number of questions: {}\".format(len(queries)))\n",
    "print(\"Number of QA pairs: {}\".format(len(qid_docid)))"
   ]
  },
  {
   "cell_type": "markdown",
   "metadata": {
    "colab_type": "text",
    "id": "WtTT2H9YTPwV"
   },
   "source": [
    "# **Clean data**"
   ]
  },
  {
   "cell_type": "code",
   "execution_count": 4,
   "metadata": {
    "colab": {
     "base_uri": "https://localhost:8080/",
     "height": 54
    },
    "colab_type": "code",
    "id": "lAVwwt-ZTL5y",
    "outputId": "a4a4611b-f35f-40d1-f2ca-9be9207671f3"
   },
   "outputs": [
    {
     "name": "stdout",
     "output_type": "stream",
     "text": [
      "Number of answers after cleaning: 57600\n",
      "Number of QA pairs after cleaning: 17072\n"
     ]
    }
   ],
   "source": [
    "# Cleaning data\n",
    "empty_docs, empty_id = get_empty_docs(collection)\n",
    "# Remove empty answers from collection of answers\n",
    "collection_cleaned = collection.drop(empty_id)\n",
    "# Remove empty answers from qa pairs\n",
    "qid_docid = qid_docid[~qid_docid['docid'].isin(empty_docs)]\n",
    "\n",
    "print(\"Number of answers after cleaning: {}\".format(len(collection_cleaned)))\n",
    "print(\"Number of QA pairs after cleaning: {}\".format(len(qid_docid)))"
   ]
  },
  {
   "cell_type": "markdown",
   "metadata": {
    "colab_type": "text",
    "id": "cLPWIz0wUnRj"
   },
   "source": [
    "# **Prepare data for Anserini**"
   ]
  },
  {
   "cell_type": "code",
   "execution_count": 0,
   "metadata": {
    "colab": {},
    "colab_type": "code",
    "id": "6cRzxOucdnIO"
   },
   "outputs": [],
   "source": [
    "# Write collection df to file\n",
    "save_tsv(\"retriever/collection_cleaned.tsv\", collection_cleaned)\n",
    "\n",
    "# Convert collection df to JSON file for Anserini's document indexer\n",
    "collection_to_json(\"retriever/collection_json/docs.json\", \"retriever/collection_cleaned.tsv\")"
   ]
  },
  {
   "cell_type": "markdown",
   "metadata": {
    "colab_type": "text",
    "id": "je6ozF8twmO-"
   },
   "source": [
    "# **Process Data**"
   ]
  },
  {
   "cell_type": "code",
   "execution_count": 0,
   "metadata": {
    "colab": {},
    "colab_type": "code",
    "id": "PUPVix9Swvim"
   },
   "outputs": [],
   "source": [
    "processed_answers = process_answers(collection_cleaned)\n",
    "processed_questions = process_questions(queries)"
   ]
  },
  {
   "cell_type": "code",
   "execution_count": 6,
   "metadata": {
    "colab": {
     "base_uri": "https://localhost:8080/",
     "height": 216
    },
    "colab_type": "code",
    "id": "Jc0jF3AYyS50",
    "outputId": "7ce0b486-c9c3-4466-981a-56adfeb220d4"
   },
   "outputs": [
    {
     "name": "stdout",
     "output_type": "stream",
     "text": [
      "Processed and tokenized questions\n"
     ]
    },
    {
     "data": {
      "text/html": [
       "<div>\n",
       "<style scoped>\n",
       "    .dataframe tbody tr th:only-of-type {\n",
       "        vertical-align: middle;\n",
       "    }\n",
       "\n",
       "    .dataframe tbody tr th {\n",
       "        vertical-align: top;\n",
       "    }\n",
       "\n",
       "    .dataframe thead th {\n",
       "        text-align: right;\n",
       "    }\n",
       "</style>\n",
       "<table border=\"1\" class=\"dataframe\">\n",
       "  <thead>\n",
       "    <tr style=\"text-align: right;\">\n",
       "      <th></th>\n",
       "      <th>qid</th>\n",
       "      <th>question</th>\n",
       "      <th>q_processed</th>\n",
       "      <th>tokenized_q</th>\n",
       "      <th>q_len</th>\n",
       "    </tr>\n",
       "  </thead>\n",
       "  <tbody>\n",
       "    <tr>\n",
       "      <th>0</th>\n",
       "      <td>0</td>\n",
       "      <td>What is considered a business expense on a bus...</td>\n",
       "      <td>what is considered a business expense on a bus...</td>\n",
       "      <td>[what, is, considered, a, business, expense, o...</td>\n",
       "      <td>10</td>\n",
       "    </tr>\n",
       "    <tr>\n",
       "      <th>1</th>\n",
       "      <td>1</td>\n",
       "      <td>Claiming business expenses for a business with...</td>\n",
       "      <td>claiming business expenses for a business with...</td>\n",
       "      <td>[claiming, business, expenses, for, a, busines...</td>\n",
       "      <td>9</td>\n",
       "    </tr>\n",
       "    <tr>\n",
       "      <th>2</th>\n",
       "      <td>2</td>\n",
       "      <td>Transferring money from One business checking ...</td>\n",
       "      <td>transferring money from one business checking ...</td>\n",
       "      <td>[transferring, money, from, one, business, che...</td>\n",
       "      <td>10</td>\n",
       "    </tr>\n",
       "    <tr>\n",
       "      <th>3</th>\n",
       "      <td>3</td>\n",
       "      <td>Having a separate bank account for business/in...</td>\n",
       "      <td>having a separate bank account for business in...</td>\n",
       "      <td>[having, a, separate, bank, account, for, busi...</td>\n",
       "      <td>13</td>\n",
       "    </tr>\n",
       "    <tr>\n",
       "      <th>4</th>\n",
       "      <td>4</td>\n",
       "      <td>Business Expense - Car Insurance Deductible Fo...</td>\n",
       "      <td>business expense   car insurance deductible fo...</td>\n",
       "      <td>[business, expense, car, insurance, deductible...</td>\n",
       "      <td>13</td>\n",
       "    </tr>\n",
       "  </tbody>\n",
       "</table>\n",
       "</div>"
      ],
      "text/plain": [
       "   qid  ... q_len\n",
       "0    0  ...    10\n",
       "1    1  ...     9\n",
       "2    2  ...    10\n",
       "3    3  ...    13\n",
       "4    4  ...    13\n",
       "\n",
       "[5 rows x 5 columns]"
      ]
     },
     "execution_count": 6,
     "metadata": {
      "tags": []
     },
     "output_type": "execute_result"
    }
   ],
   "source": [
    "print(\"Processed and tokenized questions\")\n",
    "processed_questions.head(5)"
   ]
  },
  {
   "cell_type": "code",
   "execution_count": 8,
   "metadata": {
    "colab": {
     "base_uri": "https://localhost:8080/",
     "height": 216
    },
    "colab_type": "code",
    "id": "RetVQ8lO6tpw",
    "outputId": "316d35e4-bea9-4358-819b-69ad53f91ec8"
   },
   "outputs": [
    {
     "name": "stdout",
     "output_type": "stream",
     "text": [
      "Processed and tokenized answers\n"
     ]
    },
    {
     "data": {
      "text/html": [
       "<div>\n",
       "<style scoped>\n",
       "    .dataframe tbody tr th:only-of-type {\n",
       "        vertical-align: middle;\n",
       "    }\n",
       "\n",
       "    .dataframe tbody tr th {\n",
       "        vertical-align: top;\n",
       "    }\n",
       "\n",
       "    .dataframe thead th {\n",
       "        text-align: right;\n",
       "    }\n",
       "</style>\n",
       "<table border=\"1\" class=\"dataframe\">\n",
       "  <thead>\n",
       "    <tr style=\"text-align: right;\">\n",
       "      <th></th>\n",
       "      <th>docid</th>\n",
       "      <th>doc</th>\n",
       "      <th>doc_processed</th>\n",
       "      <th>tokenized_ans</th>\n",
       "      <th>ans_len</th>\n",
       "    </tr>\n",
       "  </thead>\n",
       "  <tbody>\n",
       "    <tr>\n",
       "      <th>0</th>\n",
       "      <td>3</td>\n",
       "      <td>I'm not saying I don't like the idea of on-the...</td>\n",
       "      <td>im not saying i dont like the idea of on the j...</td>\n",
       "      <td>[im, not, saying, i, dont, like, the, idea, of...</td>\n",
       "      <td>76</td>\n",
       "    </tr>\n",
       "    <tr>\n",
       "      <th>1</th>\n",
       "      <td>31</td>\n",
       "      <td>So nothing preventing false ratings besides ad...</td>\n",
       "      <td>so nothing preventing false ratings besides ad...</td>\n",
       "      <td>[so, nothing, preventing, false, ratings, besi...</td>\n",
       "      <td>78</td>\n",
       "    </tr>\n",
       "    <tr>\n",
       "      <th>2</th>\n",
       "      <td>56</td>\n",
       "      <td>You can never use a health FSA for individual ...</td>\n",
       "      <td>you can never use a health fsa for individual ...</td>\n",
       "      <td>[you, can, never, use, a, health, fsa, for, in...</td>\n",
       "      <td>74</td>\n",
       "    </tr>\n",
       "    <tr>\n",
       "      <th>3</th>\n",
       "      <td>59</td>\n",
       "      <td>Samsung created the LCD and other flat screen ...</td>\n",
       "      <td>samsung created the lcd and other flat screen ...</td>\n",
       "      <td>[samsung, created, the, lcd, and, other, flat,...</td>\n",
       "      <td>54</td>\n",
       "    </tr>\n",
       "    <tr>\n",
       "      <th>4</th>\n",
       "      <td>63</td>\n",
       "      <td>Here are the SEC requirements: The federal sec...</td>\n",
       "      <td>here are the sec requirements  the federal sec...</td>\n",
       "      <td>[here, are, the, sec, requirements, the, feder...</td>\n",
       "      <td>222</td>\n",
       "    </tr>\n",
       "  </tbody>\n",
       "</table>\n",
       "</div>"
      ],
      "text/plain": [
       "   docid  ... ans_len\n",
       "0      3  ...      76\n",
       "1     31  ...      78\n",
       "2     56  ...      74\n",
       "3     59  ...      54\n",
       "4     63  ...     222\n",
       "\n",
       "[5 rows x 5 columns]"
      ]
     },
     "execution_count": 8,
     "metadata": {
      "tags": []
     },
     "output_type": "execute_result"
    }
   ],
   "source": [
    "print(\"Processed and tokenized answers\")\n",
    "processed_answers.head(5)"
   ]
  },
  {
   "cell_type": "code",
   "execution_count": 7,
   "metadata": {
    "colab": {
     "base_uri": "https://localhost:8080/",
     "height": 54
    },
    "colab_type": "code",
    "id": "Utmcy73hxRdU",
    "outputId": "e364f848-3700-4d27-9e51-ae5b029a3f9b"
   },
   "outputs": [
    {
     "name": "stdout",
     "output_type": "stream",
     "text": [
      "Average answer length: 136\n",
      "Average question length: 11\n"
     ]
    }
   ],
   "source": [
    "avg_ans_count = processed_answers['ans_len'].mean()\n",
    "avg_q_count = processed_questions['q_len'].mean()\n",
    "\n",
    "print(\"Average answer length: {}\".format(round(avg_ans_count)))\n",
    "print(\"Average question length: {}\".format(round(avg_q_count)))"
   ]
  },
  {
   "cell_type": "code",
   "execution_count": 21,
   "metadata": {
    "colab": {
     "base_uri": "https://localhost:8080/",
     "height": 54
    },
    "colab_type": "code",
    "id": "GU-M5-ZA6jyO",
    "outputId": "b93590d4-ac56-4320-c200-28cee789f683"
   },
   "outputs": [
    {
     "name": "stdout",
     "output_type": "stream",
     "text": [
      "Total answers: 57600\n",
      "Number of answers with length greater than 512: 1233\n"
     ]
    }
   ],
   "source": [
    "print(\"Total answers: {}\".format(len(processed_answers)))\n",
    "print(\"Number of answers with length greater than 512: {}\".format(len(processed_answers[processed_answers['ans_len'] > 512])))"
   ]
  },
  {
   "cell_type": "markdown",
   "metadata": {
    "colab_type": "text",
    "id": "EFpEEP1LyLOz"
   },
   "source": [
    "# **Create Vocabulary**"
   ]
  },
  {
   "cell_type": "code",
   "execution_count": 0,
   "metadata": {
    "colab": {
     "base_uri": "https://localhost:8080/",
     "height": 74
    },
    "colab_type": "code",
    "id": "A-17JAEKyGmu",
    "outputId": "0cad39f8-8514-4455-ce67-93551a52c9a3"
   },
   "outputs": [
    {
     "name": "stdout",
     "output_type": "stream",
     "text": [
      "Vocab size: 85034\n",
      "Top 35 common words: [('the', 371203), ('to', 233559), ('a', 201620), ('you', 166702), ('and', 163066), ('of', 157574), ('is', 129894), ('in', 120019), ('that', 111416), ('for', 89366), ('it', 83822), ('i', 74100), ('your', 68153), ('are', 67255), ('if', 60689), ('be', 59266), ('on', 58382), ('have', 55754), ('as', 50088), ('this', 49868), ('not', 49227), ('or', 46080), ('with', 45894), ('they', 44485), ('but', 41690), ('can', 38863), ('will', 36865), ('at', 35548), ('an', 31392), ('money', 31003), ('so', 29980), ('$', 29096), ('would', 28750), ('from', 28582), ('more', 27378)]\n"
     ]
    }
   ],
   "source": [
    "word2index, word2count = create_vocab(processed_answers, processed_questions)\n",
    "\n",
    "print(\"Vocab size: {}\".format(len(word2index)))\n",
    "print(\"Top {} common words: {}\".format(35, Counter(word2count).most_common(35)))"
   ]
  },
  {
   "cell_type": "code",
   "execution_count": 0,
   "metadata": {
    "colab": {},
    "colab_type": "code",
    "id": "lYmm3pHMysZb"
   },
   "outputs": [],
   "source": [
    "qid_to_text, docid_to_text = id_to_text(collection, queries)\n",
    "qid_to_tokenized_text, docid_to_tokenized_text = id_to_tokenized_text(processed_answers, processed_questions)"
   ]
  },
  {
   "cell_type": "code",
   "execution_count": 0,
   "metadata": {
    "colab": {},
    "colab_type": "code",
    "id": "yjfljL5eyuZ6"
   },
   "outputs": [],
   "source": [
    "# Save objects to pickle\n",
    "save_pickle(\"data/qa_lstm_tokenizer/word2index.pickle\", word2index)\n",
    "save_pickle(\"data/qa_lstm_tokenizer/word2count.pickle\", word2count)\n",
    "\n",
    "# id map to raw text\n",
    "save_pickle(\"data/id_to_text/qid_to_text.pickle\", qid_to_text)\n",
    "save_pickle(\"data/id_to_text/docid_to_text.pickle\", docid_to_text)\n",
    "\n",
    "# id map to tokenized text\n",
    "save_pickle(\"data/qa_lstm_tokenizer/qid_to_tokenized_text.pickle\", qid_to_tokenized_text)\n",
    "save_pickle(\"data/qa_lstm_tokenizer/docid_to_tokenized_text.pickle\", docid_to_tokenized_text)"
   ]
  }
 ],
 "metadata": {
  "colab": {
   "collapsed_sections": [],
   "name": "prepare_data.ipynb",
   "provenance": []
  },
  "kernelspec": {
   "display_name": "Python 3",
   "language": "python",
   "name": "python3"
  },
  "language_info": {
   "codemirror_mode": {
    "name": "ipython",
    "version": 3
   },
   "file_extension": ".py",
   "mimetype": "text/x-python",
   "name": "python",
   "nbconvert_exporter": "python",
   "pygments_lexer": "ipython3",
   "version": "3.6.8"
  }
 },
 "nbformat": 4,
 "nbformat_minor": 1
}
